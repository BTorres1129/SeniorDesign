{
 "cells": [
  {
   "cell_type": "code",
   "execution_count": 1,
   "metadata": {
    "scrolled": false
   },
   "outputs": [
    {
     "data": {
      "text/html": [
       "<div>\n",
       "<style scoped>\n",
       "    .dataframe tbody tr th:only-of-type {\n",
       "        vertical-align: middle;\n",
       "    }\n",
       "\n",
       "    .dataframe tbody tr th {\n",
       "        vertical-align: top;\n",
       "    }\n",
       "\n",
       "    .dataframe thead th {\n",
       "        text-align: right;\n",
       "    }\n",
       "</style>\n",
       "<table border=\"1\" class=\"dataframe\">\n",
       "  <thead>\n",
       "    <tr style=\"text-align: right;\">\n",
       "      <th></th>\n",
       "      <th>Alex</th>\n",
       "      <th>Cristal</th>\n",
       "      <th>Haley</th>\n",
       "      <th>Sam</th>\n",
       "    </tr>\n",
       "    <tr>\n",
       "      <th>Task #</th>\n",
       "      <th></th>\n",
       "      <th></th>\n",
       "      <th></th>\n",
       "      <th></th>\n",
       "    </tr>\n",
       "  </thead>\n",
       "  <tbody>\n",
       "    <tr>\n",
       "      <th>1</th>\n",
       "      <td>00:28.197</td>\n",
       "      <td>00:43.881</td>\n",
       "      <td>00:08.823</td>\n",
       "      <td>00:58.655</td>\n",
       "    </tr>\n",
       "    <tr>\n",
       "      <th>2</th>\n",
       "      <td>01:31.635</td>\n",
       "      <td>01:15.377</td>\n",
       "      <td>00:12.348</td>\n",
       "      <td>00:41.856</td>\n",
       "    </tr>\n",
       "    <tr>\n",
       "      <th>3</th>\n",
       "      <td>01:30.686</td>\n",
       "      <td>00:41.042</td>\n",
       "      <td>00:13.599</td>\n",
       "      <td>00:28.234</td>\n",
       "    </tr>\n",
       "    <tr>\n",
       "      <th>4</th>\n",
       "      <td>01:48.249</td>\n",
       "      <td>01:14.146</td>\n",
       "      <td>00:09.783</td>\n",
       "      <td>00:19.706</td>\n",
       "    </tr>\n",
       "    <tr>\n",
       "      <th>5</th>\n",
       "      <td>00:54.756</td>\n",
       "      <td>00:33.634</td>\n",
       "      <td>00:20.107</td>\n",
       "      <td>00:27.111</td>\n",
       "    </tr>\n",
       "    <tr>\n",
       "      <th>6</th>\n",
       "      <td>00:44.956</td>\n",
       "      <td>01:11.489</td>\n",
       "      <td>00:10.073</td>\n",
       "      <td>02:42.814</td>\n",
       "    </tr>\n",
       "    <tr>\n",
       "      <th>7</th>\n",
       "      <td>00:29.967</td>\n",
       "      <td>00:37.462</td>\n",
       "      <td>00:13.689</td>\n",
       "      <td>00:11.151</td>\n",
       "    </tr>\n",
       "    <tr>\n",
       "      <th>8</th>\n",
       "      <td>00:22.079</td>\n",
       "      <td>00:00.000</td>\n",
       "      <td>00:09.085</td>\n",
       "      <td>00:20.385</td>\n",
       "    </tr>\n",
       "    <tr>\n",
       "      <th>9</th>\n",
       "      <td>00:46.106</td>\n",
       "      <td>00:23.258</td>\n",
       "      <td>00:11.824</td>\n",
       "      <td>00:17.666</td>\n",
       "    </tr>\n",
       "    <tr>\n",
       "      <th>10</th>\n",
       "      <td>00:36.891</td>\n",
       "      <td>00:34.177</td>\n",
       "      <td>00:11.244</td>\n",
       "      <td>00:21.943</td>\n",
       "    </tr>\n",
       "    <tr>\n",
       "      <th>11</th>\n",
       "      <td>00:29.441</td>\n",
       "      <td>00:25.008</td>\n",
       "      <td>00:09.478</td>\n",
       "      <td>00:26.703</td>\n",
       "    </tr>\n",
       "    <tr>\n",
       "      <th>12</th>\n",
       "      <td>00:00.000</td>\n",
       "      <td>00:27.878</td>\n",
       "      <td>00:07.885</td>\n",
       "      <td>00:16.316</td>\n",
       "    </tr>\n",
       "  </tbody>\n",
       "</table>\n",
       "</div>"
      ],
      "text/plain": [
       "             Alex    Cristal      Haley        Sam\n",
       "Task #                                            \n",
       "1       00:28.197  00:43.881  00:08.823  00:58.655\n",
       "2       01:31.635  01:15.377  00:12.348  00:41.856\n",
       "3       01:30.686  00:41.042  00:13.599  00:28.234\n",
       "4       01:48.249  01:14.146  00:09.783  00:19.706\n",
       "5       00:54.756  00:33.634  00:20.107  00:27.111\n",
       "6       00:44.956  01:11.489  00:10.073  02:42.814\n",
       "7       00:29.967  00:37.462  00:13.689  00:11.151\n",
       "8       00:22.079  00:00.000  00:09.085  00:20.385\n",
       "9       00:46.106  00:23.258  00:11.824  00:17.666\n",
       "10      00:36.891  00:34.177  00:11.244  00:21.943\n",
       "11      00:29.441  00:25.008  00:09.478  00:26.703\n",
       "12      00:00.000  00:27.878  00:07.885  00:16.316"
      ]
     },
     "execution_count": 1,
     "metadata": {},
     "output_type": "execute_result"
    }
   ],
   "source": [
    "import pandas as pd\n",
    "import numpy as np\n",
    "import seaborn as sns\n",
    "import matplotlib.pyplot as plt\n",
    "\n",
    "df = pd.read_csv(r\"C:\\Users\\Brandon\\Desktop\\UNCC_LAYOUT Heatmaps\\EyeTrackingDataForLayoutD.csv\", index_col=0)\n",
    "df = df.iloc[0:12,0:4]\n",
    "df\n",
    "#The output below show all of the raw data that will be interpreting for generating a heirarchical clustering heatmap:"
   ]
  },
  {
   "cell_type": "code",
   "execution_count": 2,
   "metadata": {
    "scrolled": false
   },
   "outputs": [
    {
     "data": {
      "text/html": [
       "<div>\n",
       "<style scoped>\n",
       "    .dataframe tbody tr th:only-of-type {\n",
       "        vertical-align: middle;\n",
       "    }\n",
       "\n",
       "    .dataframe tbody tr th {\n",
       "        vertical-align: top;\n",
       "    }\n",
       "\n",
       "    .dataframe thead th {\n",
       "        text-align: right;\n",
       "    }\n",
       "</style>\n",
       "<table border=\"1\" class=\"dataframe\">\n",
       "  <thead>\n",
       "    <tr style=\"text-align: right;\">\n",
       "      <th></th>\n",
       "      <th>Alex</th>\n",
       "      <th>Cristal</th>\n",
       "      <th>Haley</th>\n",
       "      <th>Sam</th>\n",
       "    </tr>\n",
       "    <tr>\n",
       "      <th>Task #</th>\n",
       "      <th></th>\n",
       "      <th></th>\n",
       "      <th></th>\n",
       "      <th></th>\n",
       "    </tr>\n",
       "  </thead>\n",
       "  <tbody>\n",
       "    <tr>\n",
       "      <th>1</th>\n",
       "      <td>28.197</td>\n",
       "      <td>43.881</td>\n",
       "      <td>8.823</td>\n",
       "      <td>58.655</td>\n",
       "    </tr>\n",
       "    <tr>\n",
       "      <th>2</th>\n",
       "      <td>31.635</td>\n",
       "      <td>15.377</td>\n",
       "      <td>12.348</td>\n",
       "      <td>41.856</td>\n",
       "    </tr>\n",
       "    <tr>\n",
       "      <th>3</th>\n",
       "      <td>30.686</td>\n",
       "      <td>41.042</td>\n",
       "      <td>13.599</td>\n",
       "      <td>28.234</td>\n",
       "    </tr>\n",
       "    <tr>\n",
       "      <th>4</th>\n",
       "      <td>48.249</td>\n",
       "      <td>14.146</td>\n",
       "      <td>9.783</td>\n",
       "      <td>19.706</td>\n",
       "    </tr>\n",
       "    <tr>\n",
       "      <th>5</th>\n",
       "      <td>54.756</td>\n",
       "      <td>33.634</td>\n",
       "      <td>20.107</td>\n",
       "      <td>27.111</td>\n",
       "    </tr>\n",
       "    <tr>\n",
       "      <th>6</th>\n",
       "      <td>44.956</td>\n",
       "      <td>11.489</td>\n",
       "      <td>10.073</td>\n",
       "      <td>42.814</td>\n",
       "    </tr>\n",
       "    <tr>\n",
       "      <th>7</th>\n",
       "      <td>29.967</td>\n",
       "      <td>37.462</td>\n",
       "      <td>13.689</td>\n",
       "      <td>11.151</td>\n",
       "    </tr>\n",
       "    <tr>\n",
       "      <th>8</th>\n",
       "      <td>22.079</td>\n",
       "      <td>0.000</td>\n",
       "      <td>9.085</td>\n",
       "      <td>20.385</td>\n",
       "    </tr>\n",
       "    <tr>\n",
       "      <th>9</th>\n",
       "      <td>46.106</td>\n",
       "      <td>23.258</td>\n",
       "      <td>11.824</td>\n",
       "      <td>17.666</td>\n",
       "    </tr>\n",
       "    <tr>\n",
       "      <th>10</th>\n",
       "      <td>36.891</td>\n",
       "      <td>34.177</td>\n",
       "      <td>11.244</td>\n",
       "      <td>21.943</td>\n",
       "    </tr>\n",
       "    <tr>\n",
       "      <th>11</th>\n",
       "      <td>29.441</td>\n",
       "      <td>25.008</td>\n",
       "      <td>9.478</td>\n",
       "      <td>26.703</td>\n",
       "    </tr>\n",
       "    <tr>\n",
       "      <th>12</th>\n",
       "      <td>0.000</td>\n",
       "      <td>27.878</td>\n",
       "      <td>7.885</td>\n",
       "      <td>16.316</td>\n",
       "    </tr>\n",
       "  </tbody>\n",
       "</table>\n",
       "</div>"
      ],
      "text/plain": [
       "          Alex  Cristal   Haley     Sam\n",
       "Task #                                 \n",
       "1       28.197   43.881   8.823  58.655\n",
       "2       31.635   15.377  12.348  41.856\n",
       "3       30.686   41.042  13.599  28.234\n",
       "4       48.249   14.146   9.783  19.706\n",
       "5       54.756   33.634  20.107  27.111\n",
       "6       44.956   11.489  10.073  42.814\n",
       "7       29.967   37.462  13.689  11.151\n",
       "8       22.079    0.000   9.085  20.385\n",
       "9       46.106   23.258  11.824  17.666\n",
       "10      36.891   34.177  11.244  21.943\n",
       "11      29.441   25.008   9.478  26.703\n",
       "12       0.000   27.878   7.885  16.316"
      ]
     },
     "execution_count": 2,
     "metadata": {},
     "output_type": "execute_result"
    }
   ],
   "source": [
    "lst = list(df.columns)\n",
    "for x in range(len(lst)):\n",
    "    df[lst[x]] = pd.to_datetime(df[lst[x]], format = '%M:%S.%f').dt.second + (pd.to_datetime(df[lst[x]], format = '%M:%S.%f').dt.microsecond/1000000)\n",
    "df\n",
    "#The same as the previous output but dataframe has been converted from a mm:ss.ms format to ss.ms format:"
   ]
  },
  {
   "cell_type": "code",
   "execution_count": 3,
   "metadata": {
    "scrolled": false
   },
   "outputs": [
    {
     "data": {
      "text/plain": [
       "<seaborn.matrix.ClusterGrid at 0x271d5f3a248>"
      ]
     },
     "execution_count": 3,
     "metadata": {},
     "output_type": "execute_result"
    },
    {
     "data": {
      "image/png": "[encoded data removed]",
      "text/plain": [
       "<Figure size 720x720 with 4 Axes>"
      ]
     },
     "metadata": {
      "needs_background": "light"
     },
     "output_type": "display_data"
    }
   ],
   "source": [
    "sns.clustermap(df, metric=\"sqeuclidean\", standard_scale=1, cmap=\"coolwarm\")\n",
    "#This output is the raw generation of the maximized variance, Squared Euclidean distance heatmap:"
   ]
  },
  {
   "cell_type": "code",
   "execution_count": 4,
   "metadata": {
    "scrolled": false
   },
   "outputs": [
    {
     "data": {
      "text/plain": [
       "<seaborn.matrix.ClusterGrid at 0x271db930b48>"
      ]
     },
     "execution_count": 4,
     "metadata": {},
     "output_type": "execute_result"
    },
    {
     "data": {
      "image/png": "[encoded data removed]",
      "text/plain": [
       "<Figure size 720x720 with 4 Axes>"
      ]
     },
     "metadata": {
      "needs_background": "light"
     },
     "output_type": "display_data"
    }
   ],
   "source": [
    "sns.clustermap(df, metric=\"euclidean\", standard_scale=1, method=\"ward\", cmap=\"coolwarm\")\n",
    "#This output is the raw generation of the minimized variance heatmap:"
   ]
  },
  {
   "cell_type": "code",
   "execution_count": 5,
   "metadata": {},
   "outputs": [
    {
     "data": {
      "text/plain": [
       "<seaborn.matrix.ClusterGrid at 0x271dbeb0b08>"
      ]
     },
     "execution_count": 5,
     "metadata": {},
     "output_type": "execute_result"
    },
    {
     "data": {
      "image/png": "[encoded data removed]",
      "text/plain": [
       "<Figure size 720x720 with 4 Axes>"
      ]
     },
     "metadata": {
      "needs_background": "light"
     },
     "output_type": "display_data"
    }
   ],
   "source": [
    "sns.clustermap(df, z_score=1, cmap=\"coolwarm\")\n",
    "#This output is the raw generation of the normalized heatmap:"
   ]
  },
  {
   "cell_type": "code",
   "execution_count": null,
   "metadata": {},
   "outputs": [],
   "source": []
  }
 ],
 "metadata": {
  "kernelspec": {
   "display_name": "Python 3",
   "language": "python",
   "name": "python3"
  },
  "language_info": {
   "codemirror_mode": {
    "name": "ipython",
    "version": 3
   },
   "file_extension": ".py",
   "mimetype": "text/x-python",
   "name": "python",
   "nbconvert_exporter": "python",
   "pygments_lexer": "ipython3",
   "version": "3.7.6"
  }
 },
 "nbformat": 4,
 "nbformat_minor": 4
}
