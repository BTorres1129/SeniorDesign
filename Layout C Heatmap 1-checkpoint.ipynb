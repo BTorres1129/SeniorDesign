{
 "cells": [
  {
   "cell_type": "code",
   "execution_count": 1,
   "metadata": {
    "scrolled": false
   },
   "outputs": [
    {
     "data": {
      "text/html": [
       "<div>\n",
       "<style scoped>\n",
       "    .dataframe tbody tr th:only-of-type {\n",
       "        vertical-align: middle;\n",
       "    }\n",
       "\n",
       "    .dataframe tbody tr th {\n",
       "        vertical-align: top;\n",
       "    }\n",
       "\n",
       "    .dataframe thead th {\n",
       "        text-align: right;\n",
       "    }\n",
       "</style>\n",
       "<table border=\"1\" class=\"dataframe\">\n",
       "  <thead>\n",
       "    <tr style=\"text-align: right;\">\n",
       "      <th></th>\n",
       "      <th>Allie</th>\n",
       "      <th>Hank</th>\n",
       "      <th>Kyra</th>\n",
       "      <th>Shannon</th>\n",
       "    </tr>\n",
       "    <tr>\n",
       "      <th>Task #</th>\n",
       "      <th></th>\n",
       "      <th></th>\n",
       "      <th></th>\n",
       "      <th></th>\n",
       "    </tr>\n",
       "  </thead>\n",
       "  <tbody>\n",
       "    <tr>\n",
       "      <th>1</th>\n",
       "      <td>00:09.059</td>\n",
       "      <td>00:26.174</td>\n",
       "      <td>00:09.361</td>\n",
       "      <td>00:46.871</td>\n",
       "    </tr>\n",
       "    <tr>\n",
       "      <th>2</th>\n",
       "      <td>00:16.050</td>\n",
       "      <td>00:39.482</td>\n",
       "      <td>00:16.074</td>\n",
       "      <td>00:55.680</td>\n",
       "    </tr>\n",
       "    <tr>\n",
       "      <th>3</th>\n",
       "      <td>00:08.762</td>\n",
       "      <td>00:28.937</td>\n",
       "      <td>00:09.636</td>\n",
       "      <td>00:28.545</td>\n",
       "    </tr>\n",
       "    <tr>\n",
       "      <th>4</th>\n",
       "      <td>00:09.081</td>\n",
       "      <td>01:01.777</td>\n",
       "      <td>00:18.838</td>\n",
       "      <td>00:50.209</td>\n",
       "    </tr>\n",
       "    <tr>\n",
       "      <th>5</th>\n",
       "      <td>00:30.325</td>\n",
       "      <td>00:56.001</td>\n",
       "      <td>00:20.085</td>\n",
       "      <td>02:21.745</td>\n",
       "    </tr>\n",
       "    <tr>\n",
       "      <th>6</th>\n",
       "      <td>00:09.792</td>\n",
       "      <td>00:32.490</td>\n",
       "      <td>00:17.117</td>\n",
       "      <td>00:35.868</td>\n",
       "    </tr>\n",
       "    <tr>\n",
       "      <th>7</th>\n",
       "      <td>00:10.137</td>\n",
       "      <td>00:17.446</td>\n",
       "      <td>00:07.359</td>\n",
       "      <td>00:27.426</td>\n",
       "    </tr>\n",
       "    <tr>\n",
       "      <th>8</th>\n",
       "      <td>00:08.777</td>\n",
       "      <td>00:20.061</td>\n",
       "      <td>00:08.243</td>\n",
       "      <td>00:22.202</td>\n",
       "    </tr>\n",
       "    <tr>\n",
       "      <th>9</th>\n",
       "      <td>00:12.553</td>\n",
       "      <td>00:19.766</td>\n",
       "      <td>00:08.424</td>\n",
       "      <td>01:16.331</td>\n",
       "    </tr>\n",
       "    <tr>\n",
       "      <th>10</th>\n",
       "      <td>00:11.176</td>\n",
       "      <td>00:33.023</td>\n",
       "      <td>00:14.134</td>\n",
       "      <td>00:27.597</td>\n",
       "    </tr>\n",
       "    <tr>\n",
       "      <th>11</th>\n",
       "      <td>00:15.268</td>\n",
       "      <td>00:00.000</td>\n",
       "      <td>00:15.420</td>\n",
       "      <td>00:00.000</td>\n",
       "    </tr>\n",
       "    <tr>\n",
       "      <th>12</th>\n",
       "      <td>00:06.588</td>\n",
       "      <td>00:00.000</td>\n",
       "      <td>00:13.286</td>\n",
       "      <td>00:00.000</td>\n",
       "    </tr>\n",
       "  </tbody>\n",
       "</table>\n",
       "</div>"
      ],
      "text/plain": [
       "            Allie       Hank       Kyra    Shannon\n",
       "Task #                                            \n",
       "1       00:09.059  00:26.174  00:09.361  00:46.871\n",
       "2       00:16.050  00:39.482  00:16.074  00:55.680\n",
       "3       00:08.762  00:28.937  00:09.636  00:28.545\n",
       "4       00:09.081  01:01.777  00:18.838  00:50.209\n",
       "5       00:30.325  00:56.001  00:20.085  02:21.745\n",
       "6       00:09.792  00:32.490  00:17.117  00:35.868\n",
       "7       00:10.137  00:17.446  00:07.359  00:27.426\n",
       "8       00:08.777  00:20.061  00:08.243  00:22.202\n",
       "9       00:12.553  00:19.766  00:08.424  01:16.331\n",
       "10      00:11.176  00:33.023  00:14.134  00:27.597\n",
       "11      00:15.268  00:00.000  00:15.420  00:00.000\n",
       "12      00:06.588  00:00.000  00:13.286  00:00.000"
      ]
     },
     "execution_count": 1,
     "metadata": {},
     "output_type": "execute_result"
    }
   ],
   "source": [
    "import pandas as pd\n",
    "import numpy as np\n",
    "import seaborn as sns\n",
    "import matplotlib.pyplot as plt\n",
    "\n",
    "df = pd.read_csv(r\"C:\\Users\\Brandon\\Desktop\\UNCC_LAYOUT Heatmaps\\EyeTrackingDataForLayoutC.csv\", index_col=0)\n",
    "df = df.iloc[0:12,0:4]\n",
    "df\n",
    "#The output below show all of the raw data that will be interpreting for generating a heirarchical clustering heatmap:"
   ]
  },
  {
   "cell_type": "code",
   "execution_count": 2,
   "metadata": {
    "scrolled": false
   },
   "outputs": [
    {
     "data": {
      "text/html": [
       "<div>\n",
       "<style scoped>\n",
       "    .dataframe tbody tr th:only-of-type {\n",
       "        vertical-align: middle;\n",
       "    }\n",
       "\n",
       "    .dataframe tbody tr th {\n",
       "        vertical-align: top;\n",
       "    }\n",
       "\n",
       "    .dataframe thead th {\n",
       "        text-align: right;\n",
       "    }\n",
       "</style>\n",
       "<table border=\"1\" class=\"dataframe\">\n",
       "  <thead>\n",
       "    <tr style=\"text-align: right;\">\n",
       "      <th></th>\n",
       "      <th>Allie</th>\n",
       "      <th>Hank</th>\n",
       "      <th>Kyra</th>\n",
       "      <th>Shannon</th>\n",
       "    </tr>\n",
       "    <tr>\n",
       "      <th>Task #</th>\n",
       "      <th></th>\n",
       "      <th></th>\n",
       "      <th></th>\n",
       "      <th></th>\n",
       "    </tr>\n",
       "  </thead>\n",
       "  <tbody>\n",
       "    <tr>\n",
       "      <th>1</th>\n",
       "      <td>9.059</td>\n",
       "      <td>26.174</td>\n",
       "      <td>9.361</td>\n",
       "      <td>46.871</td>\n",
       "    </tr>\n",
       "    <tr>\n",
       "      <th>2</th>\n",
       "      <td>16.050</td>\n",
       "      <td>39.482</td>\n",
       "      <td>16.074</td>\n",
       "      <td>55.680</td>\n",
       "    </tr>\n",
       "    <tr>\n",
       "      <th>3</th>\n",
       "      <td>8.762</td>\n",
       "      <td>28.937</td>\n",
       "      <td>9.636</td>\n",
       "      <td>28.545</td>\n",
       "    </tr>\n",
       "    <tr>\n",
       "      <th>4</th>\n",
       "      <td>9.081</td>\n",
       "      <td>1.777</td>\n",
       "      <td>18.838</td>\n",
       "      <td>50.209</td>\n",
       "    </tr>\n",
       "    <tr>\n",
       "      <th>5</th>\n",
       "      <td>30.325</td>\n",
       "      <td>56.001</td>\n",
       "      <td>20.085</td>\n",
       "      <td>21.745</td>\n",
       "    </tr>\n",
       "    <tr>\n",
       "      <th>6</th>\n",
       "      <td>9.792</td>\n",
       "      <td>32.490</td>\n",
       "      <td>17.117</td>\n",
       "      <td>35.868</td>\n",
       "    </tr>\n",
       "    <tr>\n",
       "      <th>7</th>\n",
       "      <td>10.137</td>\n",
       "      <td>17.446</td>\n",
       "      <td>7.359</td>\n",
       "      <td>27.426</td>\n",
       "    </tr>\n",
       "    <tr>\n",
       "      <th>8</th>\n",
       "      <td>8.777</td>\n",
       "      <td>20.061</td>\n",
       "      <td>8.243</td>\n",
       "      <td>22.202</td>\n",
       "    </tr>\n",
       "    <tr>\n",
       "      <th>9</th>\n",
       "      <td>12.553</td>\n",
       "      <td>19.766</td>\n",
       "      <td>8.424</td>\n",
       "      <td>16.331</td>\n",
       "    </tr>\n",
       "    <tr>\n",
       "      <th>10</th>\n",
       "      <td>11.176</td>\n",
       "      <td>33.023</td>\n",
       "      <td>14.134</td>\n",
       "      <td>27.597</td>\n",
       "    </tr>\n",
       "    <tr>\n",
       "      <th>11</th>\n",
       "      <td>15.268</td>\n",
       "      <td>0.000</td>\n",
       "      <td>15.420</td>\n",
       "      <td>0.000</td>\n",
       "    </tr>\n",
       "    <tr>\n",
       "      <th>12</th>\n",
       "      <td>6.588</td>\n",
       "      <td>0.000</td>\n",
       "      <td>13.286</td>\n",
       "      <td>0.000</td>\n",
       "    </tr>\n",
       "  </tbody>\n",
       "</table>\n",
       "</div>"
      ],
      "text/plain": [
       "         Allie    Hank    Kyra  Shannon\n",
       "Task #                                 \n",
       "1        9.059  26.174   9.361   46.871\n",
       "2       16.050  39.482  16.074   55.680\n",
       "3        8.762  28.937   9.636   28.545\n",
       "4        9.081   1.777  18.838   50.209\n",
       "5       30.325  56.001  20.085   21.745\n",
       "6        9.792  32.490  17.117   35.868\n",
       "7       10.137  17.446   7.359   27.426\n",
       "8        8.777  20.061   8.243   22.202\n",
       "9       12.553  19.766   8.424   16.331\n",
       "10      11.176  33.023  14.134   27.597\n",
       "11      15.268   0.000  15.420    0.000\n",
       "12       6.588   0.000  13.286    0.000"
      ]
     },
     "execution_count": 2,
     "metadata": {},
     "output_type": "execute_result"
    }
   ],
   "source": [
    "lst = list(df.columns)\n",
    "for x in range(len(lst)):\n",
    "    df[lst[x]] = pd.to_datetime(df[lst[x]], format = '%M:%S.%f').dt.second + (pd.to_datetime(df[lst[x]], format = '%M:%S.%f').dt.microsecond/1000000)\n",
    "df\n",
    "#The same as the previous output but dataframe has been converted from a mm:ss.ms format to ss.ms format:"
   ]
  },
  {
   "cell_type": "code",
   "execution_count": 3,
   "metadata": {
    "scrolled": false
   },
   "outputs": [
    {
     "data": {
      "text/plain": [
       "<seaborn.matrix.ClusterGrid at 0x20441f785c8>"
      ]
     },
     "execution_count": 3,
     "metadata": {},
     "output_type": "execute_result"
    },
    {
     "data": {
      "image/png": "[encoded data removed]",
      "text/plain": [
       "<Figure size 720x720 with 4 Axes>"
      ]
     },
     "metadata": {
      "needs_background": "light"
     },
     "output_type": "display_data"
    }
   ],
   "source": [
    "sns.clustermap(df, metric=\"sqeuclidean\", standard_scale=1, cmap=\"coolwarm\")\n",
    "#This output is the raw generation of the maximized variance, Squared Euclidean distance heatmap:"
   ]
  },
  {
   "cell_type": "code",
   "execution_count": 4,
   "metadata": {
    "scrolled": false
   },
   "outputs": [
    {
     "data": {
      "text/plain": [
       "<seaborn.matrix.ClusterGrid at 0x2044798d108>"
      ]
     },
     "execution_count": 4,
     "metadata": {},
     "output_type": "execute_result"
    },
    {
     "data": {
      "image/png": "[encoded data removed]",
      "text/plain": [
       "<Figure size 720x720 with 4 Axes>"
      ]
     },
     "metadata": {
      "needs_background": "light"
     },
     "output_type": "display_data"
    }
   ],
   "source": [
    "sns.clustermap(df, metric=\"euclidean\", standard_scale=1, method=\"ward\", cmap=\"coolwarm\")\n",
    "#This output is the raw generation of the minimized variance heatmap:"
   ]
  },
  {
   "cell_type": "code",
   "execution_count": 5,
   "metadata": {},
   "outputs": [
    {
     "data": {
      "text/plain": [
       "<seaborn.matrix.ClusterGrid at 0x20447f09c88>"
      ]
     },
     "execution_count": 5,
     "metadata": {},
     "output_type": "execute_result"
    },
    {
     "data": {
      "image/png": "[encoded data removed]",
      "text/plain": [
       "<Figure size 720x720 with 4 Axes>"
      ]
     },
     "metadata": {
      "needs_background": "light"
     },
     "output_type": "display_data"
    }
   ],
   "source": [
    "sns.clustermap(df, z_score=1, cmap=\"coolwarm\")\n",
    "#This output is the raw generation of the normalized heatmap:"
   ]
  },
  {
   "cell_type": "code",
   "execution_count": null,
   "metadata": {},
   "outputs": [],
   "source": []
  }
 ],
 "metadata": {
  "kernelspec": {
   "display_name": "Python 3",
   "language": "python",
   "name": "python3"
  },
  "language_info": {
   "codemirror_mode": {
    "name": "ipython",
    "version": 3
   },
   "file_extension": ".py",
   "mimetype": "text/x-python",
   "name": "python",
   "nbconvert_exporter": "python",
   "pygments_lexer": "ipython3",
   "version": "3.7.6"
  }
 },
 "nbformat": 4,
 "nbformat_minor": 4
}
