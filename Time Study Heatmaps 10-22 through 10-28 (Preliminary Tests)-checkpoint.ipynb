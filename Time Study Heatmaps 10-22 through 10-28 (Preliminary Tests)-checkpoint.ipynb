{
 "cells": [
  {
   "cell_type": "code",
   "execution_count": 1,
   "metadata": {
    "scrolled": false
   },
   "outputs": [
    {
     "data": {
      "text/html": [
       "<div>\n",
       "<style scoped>\n",
       "    .dataframe tbody tr th:only-of-type {\n",
       "        vertical-align: middle;\n",
       "    }\n",
       "\n",
       "    .dataframe tbody tr th {\n",
       "        vertical-align: top;\n",
       "    }\n",
       "\n",
       "    .dataframe thead th {\n",
       "        text-align: right;\n",
       "    }\n",
       "</style>\n",
       "<table border=\"1\" class=\"dataframe\">\n",
       "  <thead>\n",
       "    <tr style=\"text-align: right;\">\n",
       "      <th></th>\n",
       "      <th>Jake</th>\n",
       "      <th>Jalen</th>\n",
       "      <th>Sean</th>\n",
       "      <th>Brandon</th>\n",
       "    </tr>\n",
       "    <tr>\n",
       "      <th>Task #</th>\n",
       "      <th></th>\n",
       "      <th></th>\n",
       "      <th></th>\n",
       "      <th></th>\n",
       "    </tr>\n",
       "  </thead>\n",
       "  <tbody>\n",
       "    <tr>\n",
       "      <th>1</th>\n",
       "      <td>00:20.522</td>\n",
       "      <td>00:31.434</td>\n",
       "      <td>00:14.457</td>\n",
       "      <td>00:22.422</td>\n",
       "    </tr>\n",
       "    <tr>\n",
       "      <th>2</th>\n",
       "      <td>00:22.319</td>\n",
       "      <td>00:11.271</td>\n",
       "      <td>00:24.551</td>\n",
       "      <td>00:21.787</td>\n",
       "    </tr>\n",
       "    <tr>\n",
       "      <th>3</th>\n",
       "      <td>00:14.868</td>\n",
       "      <td>00:09.185</td>\n",
       "      <td>00:16.299</td>\n",
       "      <td>00:07.289</td>\n",
       "    </tr>\n",
       "    <tr>\n",
       "      <th>4</th>\n",
       "      <td>00:23.901</td>\n",
       "      <td>00:35.255</td>\n",
       "      <td>00:21.078</td>\n",
       "      <td>00:16.844</td>\n",
       "    </tr>\n",
       "    <tr>\n",
       "      <th>5</th>\n",
       "      <td>00:14.742</td>\n",
       "      <td>00:08.161</td>\n",
       "      <td>00:25.318</td>\n",
       "      <td>00:22.044</td>\n",
       "    </tr>\n",
       "    <tr>\n",
       "      <th>6</th>\n",
       "      <td>00:22.472</td>\n",
       "      <td>00:19.233</td>\n",
       "      <td>00:15.715</td>\n",
       "      <td>00:15.298</td>\n",
       "    </tr>\n",
       "    <tr>\n",
       "      <th>7</th>\n",
       "      <td>00:13.102</td>\n",
       "      <td>00:10.524</td>\n",
       "      <td>00:30.721</td>\n",
       "      <td>00:09.713</td>\n",
       "    </tr>\n",
       "    <tr>\n",
       "      <th>8</th>\n",
       "      <td>00:11.877</td>\n",
       "      <td>00:11.362</td>\n",
       "      <td>00:14.537</td>\n",
       "      <td>00:11.938</td>\n",
       "    </tr>\n",
       "    <tr>\n",
       "      <th>9</th>\n",
       "      <td>00:06.056</td>\n",
       "      <td>00:12.578</td>\n",
       "      <td>00:24.156</td>\n",
       "      <td>00:19.179</td>\n",
       "    </tr>\n",
       "    <tr>\n",
       "      <th>10</th>\n",
       "      <td>00:05.971</td>\n",
       "      <td>00:07.474</td>\n",
       "      <td>00:16.396</td>\n",
       "      <td>00:21.080</td>\n",
       "    </tr>\n",
       "    <tr>\n",
       "      <th>11</th>\n",
       "      <td>00:20.550</td>\n",
       "      <td>00:10.180</td>\n",
       "      <td>00:20.194</td>\n",
       "      <td>00:11.039</td>\n",
       "    </tr>\n",
       "    <tr>\n",
       "      <th>12</th>\n",
       "      <td>00:11.120</td>\n",
       "      <td>00:08.009</td>\n",
       "      <td>00:16.784</td>\n",
       "      <td>00:11.215</td>\n",
       "    </tr>\n",
       "  </tbody>\n",
       "</table>\n",
       "</div>"
      ],
      "text/plain": [
       "             Jake      Jalen       Sean    Brandon\n",
       "Task #                                            \n",
       "1       00:20.522  00:31.434  00:14.457  00:22.422\n",
       "2       00:22.319  00:11.271  00:24.551  00:21.787\n",
       "3       00:14.868  00:09.185  00:16.299  00:07.289\n",
       "4       00:23.901  00:35.255  00:21.078  00:16.844\n",
       "5       00:14.742  00:08.161  00:25.318  00:22.044\n",
       "6       00:22.472  00:19.233  00:15.715  00:15.298\n",
       "7       00:13.102  00:10.524  00:30.721  00:09.713\n",
       "8       00:11.877  00:11.362  00:14.537  00:11.938\n",
       "9       00:06.056  00:12.578  00:24.156  00:19.179\n",
       "10      00:05.971  00:07.474  00:16.396  00:21.080\n",
       "11      00:20.550  00:10.180  00:20.194  00:11.039\n",
       "12      00:11.120  00:08.009  00:16.784  00:11.215"
      ]
     },
     "execution_count": 1,
     "metadata": {},
     "output_type": "execute_result"
    }
   ],
   "source": [
    "import pandas as pd\n",
    "import numpy as np\n",
    "import seaborn as sns\n",
    "import matplotlib.pyplot as plt\n",
    "\n",
    "df = pd.read_csv(r\"C:\\Users\\Brandon\\Desktop\\Time Study Data Frames\\WalkthroughData(10.22-10.28).csv\", index_col=0)\n",
    "df = df.iloc[0:12,0:4]\n",
    "df\n",
    "#The output below show all of the raw data that will be interpreting for generating a heirarchical clustering heatmap:"
   ]
  },
  {
   "cell_type": "code",
   "execution_count": 2,
   "metadata": {
    "scrolled": false
   },
   "outputs": [
    {
     "data": {
      "text/html": [
       "<div>\n",
       "<style scoped>\n",
       "    .dataframe tbody tr th:only-of-type {\n",
       "        vertical-align: middle;\n",
       "    }\n",
       "\n",
       "    .dataframe tbody tr th {\n",
       "        vertical-align: top;\n",
       "    }\n",
       "\n",
       "    .dataframe thead th {\n",
       "        text-align: right;\n",
       "    }\n",
       "</style>\n",
       "<table border=\"1\" class=\"dataframe\">\n",
       "  <thead>\n",
       "    <tr style=\"text-align: right;\">\n",
       "      <th></th>\n",
       "      <th>Jake</th>\n",
       "      <th>Jalen</th>\n",
       "      <th>Sean</th>\n",
       "      <th>Brandon</th>\n",
       "    </tr>\n",
       "    <tr>\n",
       "      <th>Task #</th>\n",
       "      <th></th>\n",
       "      <th></th>\n",
       "      <th></th>\n",
       "      <th></th>\n",
       "    </tr>\n",
       "  </thead>\n",
       "  <tbody>\n",
       "    <tr>\n",
       "      <th>1</th>\n",
       "      <td>20.522</td>\n",
       "      <td>31.434</td>\n",
       "      <td>14.457</td>\n",
       "      <td>22.422</td>\n",
       "    </tr>\n",
       "    <tr>\n",
       "      <th>2</th>\n",
       "      <td>22.319</td>\n",
       "      <td>11.271</td>\n",
       "      <td>24.551</td>\n",
       "      <td>21.787</td>\n",
       "    </tr>\n",
       "    <tr>\n",
       "      <th>3</th>\n",
       "      <td>14.868</td>\n",
       "      <td>9.185</td>\n",
       "      <td>16.299</td>\n",
       "      <td>7.289</td>\n",
       "    </tr>\n",
       "    <tr>\n",
       "      <th>4</th>\n",
       "      <td>23.901</td>\n",
       "      <td>35.255</td>\n",
       "      <td>21.078</td>\n",
       "      <td>16.844</td>\n",
       "    </tr>\n",
       "    <tr>\n",
       "      <th>5</th>\n",
       "      <td>14.742</td>\n",
       "      <td>8.161</td>\n",
       "      <td>25.318</td>\n",
       "      <td>22.044</td>\n",
       "    </tr>\n",
       "    <tr>\n",
       "      <th>6</th>\n",
       "      <td>22.472</td>\n",
       "      <td>19.233</td>\n",
       "      <td>15.715</td>\n",
       "      <td>15.298</td>\n",
       "    </tr>\n",
       "    <tr>\n",
       "      <th>7</th>\n",
       "      <td>13.102</td>\n",
       "      <td>10.524</td>\n",
       "      <td>30.721</td>\n",
       "      <td>9.713</td>\n",
       "    </tr>\n",
       "    <tr>\n",
       "      <th>8</th>\n",
       "      <td>11.877</td>\n",
       "      <td>11.362</td>\n",
       "      <td>14.537</td>\n",
       "      <td>11.938</td>\n",
       "    </tr>\n",
       "    <tr>\n",
       "      <th>9</th>\n",
       "      <td>6.056</td>\n",
       "      <td>12.578</td>\n",
       "      <td>24.156</td>\n",
       "      <td>19.179</td>\n",
       "    </tr>\n",
       "    <tr>\n",
       "      <th>10</th>\n",
       "      <td>5.971</td>\n",
       "      <td>7.474</td>\n",
       "      <td>16.396</td>\n",
       "      <td>21.080</td>\n",
       "    </tr>\n",
       "    <tr>\n",
       "      <th>11</th>\n",
       "      <td>20.550</td>\n",
       "      <td>10.180</td>\n",
       "      <td>20.194</td>\n",
       "      <td>11.039</td>\n",
       "    </tr>\n",
       "    <tr>\n",
       "      <th>12</th>\n",
       "      <td>11.120</td>\n",
       "      <td>8.009</td>\n",
       "      <td>16.784</td>\n",
       "      <td>11.215</td>\n",
       "    </tr>\n",
       "  </tbody>\n",
       "</table>\n",
       "</div>"
      ],
      "text/plain": [
       "          Jake   Jalen    Sean  Brandon\n",
       "Task #                                 \n",
       "1       20.522  31.434  14.457   22.422\n",
       "2       22.319  11.271  24.551   21.787\n",
       "3       14.868   9.185  16.299    7.289\n",
       "4       23.901  35.255  21.078   16.844\n",
       "5       14.742   8.161  25.318   22.044\n",
       "6       22.472  19.233  15.715   15.298\n",
       "7       13.102  10.524  30.721    9.713\n",
       "8       11.877  11.362  14.537   11.938\n",
       "9        6.056  12.578  24.156   19.179\n",
       "10       5.971   7.474  16.396   21.080\n",
       "11      20.550  10.180  20.194   11.039\n",
       "12      11.120   8.009  16.784   11.215"
      ]
     },
     "execution_count": 2,
     "metadata": {},
     "output_type": "execute_result"
    }
   ],
   "source": [
    "lst = list(df.columns)\n",
    "for x in range(len(lst)):\n",
    "    df[lst[x]] = pd.to_datetime(df[lst[x]], format = '%M:%S.%f').dt.second + (pd.to_datetime(df[lst[x]], format = '%M:%S.%f').dt.microsecond/1000000)\n",
    "df\n",
    "#The same as the previous output but dataframe has been converted from a mm:ss.ms format to ss.ms format:"
   ]
  },
  {
   "cell_type": "code",
   "execution_count": 3,
   "metadata": {
    "scrolled": false
   },
   "outputs": [
    {
     "data": {
      "text/plain": [
       "<seaborn.matrix.ClusterGrid at 0x243022566c8>"
      ]
     },
     "execution_count": 3,
     "metadata": {},
     "output_type": "execute_result"
    },
    {
     "data": {
      "image/png": "[encoded data removed]",
      "text/plain": [
       "<Figure size 720x720 with 4 Axes>"
      ]
     },
     "metadata": {
      "needs_background": "light"
     },
     "output_type": "display_data"
    }
   ],
   "source": [
    "sns.clustermap(df, metric=\"sqeuclidean\", standard_scale=1, cmap=\"coolwarm\")\n",
    "#This output is the raw generation of the maximized variance, Squared Euclidean distance heatmap:"
   ]
  },
  {
   "cell_type": "code",
   "execution_count": 4,
   "metadata": {
    "scrolled": false
   },
   "outputs": [
    {
     "data": {
      "text/plain": [
       "<seaborn.matrix.ClusterGrid at 0x24302d33988>"
      ]
     },
     "execution_count": 4,
     "metadata": {},
     "output_type": "execute_result"
    },
    {
     "data": {
      "image/png": "[encoded data removed]",
      "text/plain": [
       "<Figure size 720x720 with 4 Axes>"
      ]
     },
     "metadata": {
      "needs_background": "light"
     },
     "output_type": "display_data"
    }
   ],
   "source": [
    "sns.clustermap(df, metric=\"euclidean\", standard_scale=1, method=\"ward\", cmap=\"coolwarm\")\n",
    "#This output is the raw generation of the minimized variance heatmap:"
   ]
  },
  {
   "cell_type": "code",
   "execution_count": 5,
   "metadata": {},
   "outputs": [
    {
     "data": {
      "text/plain": [
       "<seaborn.matrix.ClusterGrid at 0x243032a8588>"
      ]
     },
     "execution_count": 5,
     "metadata": {},
     "output_type": "execute_result"
    },
    {
     "data": {
      "image/png": "[encoded data removed]",
      "text/plain": [
       "<Figure size 720x720 with 4 Axes>"
      ]
     },
     "metadata": {
      "needs_background": "light"
     },
     "output_type": "display_data"
    }
   ],
   "source": [
    "sns.clustermap(df, z_score=1, cmap=\"coolwarm\")\n",
    "#This output is the raw generation of the normalized heatmap:"
   ]
  },
  {
   "cell_type": "code",
   "execution_count": null,
   "metadata": {},
   "outputs": [],
   "source": []
  }
 ],
 "metadata": {
  "kernelspec": {
   "display_name": "Python 3",
   "language": "python",
   "name": "python3"
  },
  "language_info": {
   "codemirror_mode": {
    "name": "ipython",
    "version": 3
   },
   "file_extension": ".py",
   "mimetype": "text/x-python",
   "name": "python",
   "nbconvert_exporter": "python",
   "pygments_lexer": "ipython3",
   "version": "3.7.6"
  }
 },
 "nbformat": 4,
 "nbformat_minor": 4
}
